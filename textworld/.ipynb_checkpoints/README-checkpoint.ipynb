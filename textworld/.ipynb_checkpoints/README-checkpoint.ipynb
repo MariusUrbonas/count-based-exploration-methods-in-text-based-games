{
 "cells": [
  {
   "cell_type": "code",
   "execution_count": 24,
   "metadata": {},
   "outputs": [
    {
     "name": "stdout",
     "output_type": "stream",
     "text": [
      "Found 11 games.\n"
     ]
    }
   ],
   "source": [
    "from glob import glob\n",
    "from os.path import join as pjoin\n",
    "\n",
    "import gym\n",
    "import textworld.gym\n",
    "from textworld import EnvInfos\n",
    "\n",
    "GAMES_PATH = \"/Users/martin/Documents/University/MLP/long-short-term-memes/tw_games\"  # This assumes `sample_games.zip` was first unzipped.\n",
    "gamefiles = glob(pjoin(GAMES_PATH, \"*.ulx\"))\n",
    "print(\"Found {} games.\".format(len(gamefiles)))\n"
   ]
  },
  {
   "cell_type": "markdown",
   "metadata": {},
   "source": [
    "## Playing a game "
   ]
  },
  {
   "cell_type": "code",
   "execution_count": 26,
   "metadata": {},
   "outputs": [
    {
     "name": "stdout",
     "output_type": "stream",
     "text": [
      "['close fridge', 'cook carrot with oven', 'cook carrot with stove', 'cook pork chop with oven', 'cook pork chop with stove', 'cook purple potato with oven', 'cook purple potato with stove', 'cook yellow potato with oven', 'cook yellow potato with stove', 'drop carrot', 'drop pork chop', 'drop purple potato', 'drop yellow potato', 'eat carrot', 'eat pork chop', 'eat purple potato', 'examine cookbook', 'examine counter', 'examine fridge', 'examine knife', 'examine oven', 'examine red hot pepper', 'examine stove', 'examine table', 'insert carrot into fridge', 'insert pork chop into fridge', 'insert purple potato into fridge', 'insert yellow potato into fridge', 'look', 'prepare meal', 'put carrot on counter', 'put carrot on stove', 'put carrot on table', 'put pork chop on counter', 'put pork chop on stove', 'put pork chop on table', 'put purple potato on counter', 'put purple potato on stove', 'put purple potato on table', 'put yellow potato on counter', 'put yellow potato on stove', 'put yellow potato on table', 'take cookbook from counter', 'take knife from counter', 'take red hot pepper from counter']\n",
      "Walkthrough: drop yellow potato. prepare meal. eat meal\n",
      "\n",
      "Recipe #1\n",
      "---------\n",
      "Gather all following ingredients and follow the directions to prepare this tasty meal.\n",
      "\n",
      "Ingredients:\n",
      "  carrot\n",
      "  pork chop\n",
      "  purple potato\n",
      "\n",
      "Directions:\n",
      "  chop the carrot\n",
      "  fry the carrot\n",
      "  slice the pork chop\n",
      "  fry the pork chop\n",
      "  slice the purple potato\n",
      "  fry the purple potato\n",
      "  prepare meal\n",
      "\n",
      "\n",
      "\n",
      "\n",
      "                    ________  ________  __    __  ________\n",
      "                   |        \\|        \\|  \\  |  \\|        \\\n",
      "                    \\$$$$$$$$| $$$$$$$$| $$  | $$ \\$$$$$$$$\n",
      "                      | $$   | $$__     \\$$\\/  $$   | $$\n",
      "                      | $$   | $$  \\     >$$  $$    | $$\n",
      "                      | $$   | $$$$$    /  $$$$\\    | $$\n",
      "                      | $$   | $$_____ |  $$ \\$$\\   | $$\n",
      "                      | $$   | $$     \\| $$  | $$   | $$\n",
      "                       \\$$    \\$$$$$$$$ \\$$   \\$$    \\$$\n",
      "              __       __   ______   _______   __        _______\n",
      "             |  \\  _  |  \\ /      \\ |       \\ |  \\      |       \\\n",
      "             | $$ / \\ | $$|  $$$$$$\\| $$$$$$$\\| $$      | $$$$$$$\\\n",
      "             | $$/  $\\| $$| $$  | $$| $$__| $$| $$      | $$  | $$\n",
      "             | $$  $$$\\ $$| $$  | $$| $$    $$| $$      | $$  | $$\n",
      "             | $$ $$\\$$\\$$| $$  | $$| $$$$$$$\\| $$      | $$  | $$\n",
      "             | $$$$  \\$$$$| $$__/ $$| $$  | $$| $$_____ | $$__/ $$\n",
      "             | $$$    \\$$$ \\$$    $$| $$  | $$| $$     \\| $$    $$\n",
      "              \\$$      \\$$  \\$$$$$$  \\$$   \\$$ \\$$$$$$$$ \\$$$$$$$\n",
      "\n",
      "You are hungry! Let's cook a delicious meal. Check the cookbook in the kitchen\n",
      "for the recipe. Once done, enjoy your meal!\n",
      "\n",
      "-= Kitchen =-\n",
      "You are in a kitchen. It seems to be pretty usual here. The room is well lit.\n",
      "\n",
      "What's that over there? It looks like it's a fridge. The light flickers for a\n",
      "second, but nothing else happens. The fridge is empty! What a waste of a day!\n",
      "You see an oven. You can make out a table. The table is massive. But the thing\n",
      "is empty, unfortunately. Oh, great. Here's a counter. I guess it's true what\n",
      "they say, if you're looking for a counter, go to TextWorld. You see a red hot\n",
      "pepper, a cookbook and a knife on the counter. Hey, want to see a stove? Look\n",
      "over there, a stove. But oh no! there's nothing on this piece of junk. Silly\n",
      "stove, silly, empty, good for nothing stove.\n",
      "\n"
     ]
    },
    {
     "ename": "TypeError",
     "evalue": "act() takes 4 positional arguments but 5 were given",
     "output_type": "error",
     "traceback": [
      "\u001b[0;31m---------------------------------------------------------------------------\u001b[0m",
      "\u001b[0;31mTypeError\u001b[0m                                 Traceback (most recent call last)",
      "\u001b[0;32m<ipython-input-26-7202e26b6e1a>\u001b[0m in \u001b[0;36m<module>\u001b[0;34m\u001b[0m\n\u001b[1;32m     32\u001b[0m \u001b[0;32mwhile\u001b[0m \u001b[0;32mnot\u001b[0m \u001b[0mdone\u001b[0m\u001b[0;34m:\u001b[0m\u001b[0;34m\u001b[0m\u001b[0;34m\u001b[0m\u001b[0m\n\u001b[1;32m     33\u001b[0m \u001b[0;31m#     command = input('> ')\u001b[0m\u001b[0;34m\u001b[0m\u001b[0;34m\u001b[0m\u001b[0;34m\u001b[0m\u001b[0m\n\u001b[0;32m---> 34\u001b[0;31m     \u001b[0mob\u001b[0m\u001b[0;34m,\u001b[0m \u001b[0mscore\u001b[0m\u001b[0;34m,\u001b[0m \u001b[0mdone\u001b[0m\u001b[0;34m,\u001b[0m \u001b[0minfos\u001b[0m \u001b[0;34m=\u001b[0m \u001b[0menv\u001b[0m\u001b[0;34m.\u001b[0m\u001b[0mstep\u001b[0m\u001b[0;34m(\u001b[0m\u001b[0magent\u001b[0m\u001b[0;34m.\u001b[0m\u001b[0mact\u001b[0m\u001b[0;34m(\u001b[0m\u001b[0mobs\u001b[0m\u001b[0;34m,\u001b[0m \u001b[0;32mNone\u001b[0m\u001b[0;34m,\u001b[0m \u001b[0;32mNone\u001b[0m\u001b[0;34m,\u001b[0m \u001b[0minfos\u001b[0m\u001b[0;34m)\u001b[0m\u001b[0;34m)\u001b[0m\u001b[0;34m\u001b[0m\u001b[0;34m\u001b[0m\u001b[0m\n\u001b[0m\u001b[1;32m     35\u001b[0m     \u001b[0menv\u001b[0m\u001b[0;34m.\u001b[0m\u001b[0mrender\u001b[0m\u001b[0;34m(\u001b[0m\u001b[0;34m)\u001b[0m\u001b[0;34m\u001b[0m\u001b[0;34m\u001b[0m\u001b[0m\n\u001b[1;32m     36\u001b[0m \u001b[0;34m\u001b[0m\u001b[0m\n",
      "\u001b[0;31mTypeError\u001b[0m: act() takes 4 positional arguments but 5 were given"
     ]
    }
   ],
   "source": [
    "import sys\n",
    "sys.path.insert(0,'/Users/martin/Documents/University/MLP/long-short-term-memes/baselines/sample_submission_random')\n",
    "from custom_agent import CustomAgent\n",
    "from importlib import reload\n",
    "import custom_agent\n",
    "reload(custom_agent)\n",
    "from custom_agent import CustomAgent\n",
    "\n",
    "gamefile = gamefiles[0]  # Pick a game.\n",
    "\n",
    "requested_infos = EnvInfos(description=True, inventory=True,admissible_commands=True, extras=[\"recipe\", \"walkthrough\", \"admissible_commands\"])\n",
    "env_id = textworld.gym.register_games([gamefile], requested_infos)\n",
    "\n",
    "#agent = CustomAgent()\n",
    "agent = textworld.agents.HumanAgent()\n",
    "\n",
    "env = gym.make(env_id)\n",
    "obs, infos = env.reset()\n",
    "\n",
    "print(infos[\"admissible_commands\"])\n",
    "\n",
    "# Since we asked for more infos, let's print them.\n",
    "print(\"Walkthrough:\", \". \".join(infos[\"extra.walkthrough\"]))\n",
    "print(infos[\"extra.recipe\"])\n",
    "\n",
    "#infos[\"admissible_commands\"] = infos[\"extra.admissible_commands\"]\n",
    "\n",
    "env.render()  # Print the initial observation.\n",
    "\n",
    "score = 0\n",
    "done = False\n",
    "while not done:\n",
    "    command = input('> ')\n",
    "    #ob, score, done, infos = env.step(agent.act(obs, None, None, infos))\n",
    "    ob, score, done, infos = env.step(command)\n",
    "    env.render()\n",
    "    "
   ]
  },
  {
   "cell_type": "markdown",
   "metadata": {},
   "source": [
    "## Visualizing a `TextWorld.Game` object"
   ]
  },
  {
   "cell_type": "code",
   "execution_count": null,
   "metadata": {},
   "outputs": [],
   "source": [
    "import textworld\n",
    "gamefile = gamefiles[0]  # Pick a game.\n",
    "game = textworld.Game.load(gamefile.replace(\".ulx\", \".json\"))\n",
    "textworld.render.visualize(game)"
   ]
  }
 ],
 "metadata": {
  "kernelspec": {
   "display_name": "Python 3",
   "language": "python",
   "name": "python3"
  },
  "language_info": {
   "codemirror_mode": {
    "name": "ipython",
    "version": 3
   },
   "file_extension": ".py",
   "mimetype": "text/x-python",
   "name": "python",
   "nbconvert_exporter": "python",
   "pygments_lexer": "ipython3",
   "version": "3.7.2"
  }
 },
 "nbformat": 4,
 "nbformat_minor": 2
}
